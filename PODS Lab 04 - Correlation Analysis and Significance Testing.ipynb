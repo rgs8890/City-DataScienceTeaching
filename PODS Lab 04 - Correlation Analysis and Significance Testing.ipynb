{
 "cells": [
  {
   "cell_type": "markdown",
   "id": "cdce7373",
   "metadata": {},
   "source": [
    "## Principles of Data Science Lab 4"
   ]
  },
  {
   "cell_type": "code",
   "execution_count": 7,
   "id": "fc3fe79c",
   "metadata": {},
   "outputs": [],
   "source": [
    "import numpy as np\n",
    "import pandas as pd\n",
    "\n",
    "import matplotlib.pyplot as plt\n",
    "import seaborn as sns\n",
    "\n",
    "import scipy.stats as stats"
   ]
  },
  {
   "cell_type": "markdown",
   "id": "7211e869",
   "metadata": {},
   "source": [
    "### Exercise 1: Correlation Analysis"
   ]
  },
  {
   "cell_type": "code",
   "execution_count": 3,
   "id": "5217d8e3",
   "metadata": {},
   "outputs": [
    {
     "data": {
      "text/html": [
       "<div>\n",
       "<style scoped>\n",
       "    .dataframe tbody tr th:only-of-type {\n",
       "        vertical-align: middle;\n",
       "    }\n",
       "\n",
       "    .dataframe tbody tr th {\n",
       "        vertical-align: top;\n",
       "    }\n",
       "\n",
       "    .dataframe thead th {\n",
       "        text-align: right;\n",
       "    }\n",
       "</style>\n",
       "<table border=\"1\" class=\"dataframe\">\n",
       "  <thead>\n",
       "    <tr style=\"text-align: right;\">\n",
       "      <th></th>\n",
       "      <th>communityname</th>\n",
       "      <th>fold</th>\n",
       "      <th>population</th>\n",
       "      <th>householdsize</th>\n",
       "      <th>racepctblack</th>\n",
       "      <th>racePctWhite</th>\n",
       "      <th>racePctAsian</th>\n",
       "      <th>racePctHisp</th>\n",
       "      <th>agePct12t21</th>\n",
       "      <th>agePct12t29</th>\n",
       "      <th>...</th>\n",
       "      <th>NumStreet</th>\n",
       "      <th>PctForeignBorn</th>\n",
       "      <th>PctBornSameState</th>\n",
       "      <th>PctSameHouse85</th>\n",
       "      <th>PctSameCity85</th>\n",
       "      <th>PctSameState85</th>\n",
       "      <th>LandArea</th>\n",
       "      <th>PopDens</th>\n",
       "      <th>PctUsePubTrans</th>\n",
       "      <th>ViolentCrimesPerPop</th>\n",
       "    </tr>\n",
       "  </thead>\n",
       "  <tbody>\n",
       "    <tr>\n",
       "      <th>0</th>\n",
       "      <td>Lakewoodcity</td>\n",
       "      <td>1</td>\n",
       "      <td>0.19</td>\n",
       "      <td>0.33</td>\n",
       "      <td>0.02</td>\n",
       "      <td>0.90</td>\n",
       "      <td>0.12</td>\n",
       "      <td>0.17</td>\n",
       "      <td>0.34</td>\n",
       "      <td>0.47</td>\n",
       "      <td>...</td>\n",
       "      <td>0.00</td>\n",
       "      <td>0.12</td>\n",
       "      <td>0.42</td>\n",
       "      <td>0.50</td>\n",
       "      <td>0.51</td>\n",
       "      <td>0.64</td>\n",
       "      <td>0.12</td>\n",
       "      <td>0.26</td>\n",
       "      <td>0.20</td>\n",
       "      <td>0.20</td>\n",
       "    </tr>\n",
       "    <tr>\n",
       "      <th>1</th>\n",
       "      <td>Tukwilacity</td>\n",
       "      <td>1</td>\n",
       "      <td>0.00</td>\n",
       "      <td>0.16</td>\n",
       "      <td>0.12</td>\n",
       "      <td>0.74</td>\n",
       "      <td>0.45</td>\n",
       "      <td>0.07</td>\n",
       "      <td>0.26</td>\n",
       "      <td>0.59</td>\n",
       "      <td>...</td>\n",
       "      <td>0.00</td>\n",
       "      <td>0.21</td>\n",
       "      <td>0.50</td>\n",
       "      <td>0.34</td>\n",
       "      <td>0.60</td>\n",
       "      <td>0.52</td>\n",
       "      <td>0.02</td>\n",
       "      <td>0.12</td>\n",
       "      <td>0.45</td>\n",
       "      <td>0.67</td>\n",
       "    </tr>\n",
       "    <tr>\n",
       "      <th>2</th>\n",
       "      <td>Aberdeentown</td>\n",
       "      <td>1</td>\n",
       "      <td>0.00</td>\n",
       "      <td>0.42</td>\n",
       "      <td>0.49</td>\n",
       "      <td>0.56</td>\n",
       "      <td>0.17</td>\n",
       "      <td>0.04</td>\n",
       "      <td>0.39</td>\n",
       "      <td>0.47</td>\n",
       "      <td>...</td>\n",
       "      <td>0.00</td>\n",
       "      <td>0.14</td>\n",
       "      <td>0.49</td>\n",
       "      <td>0.54</td>\n",
       "      <td>0.67</td>\n",
       "      <td>0.56</td>\n",
       "      <td>0.01</td>\n",
       "      <td>0.21</td>\n",
       "      <td>0.02</td>\n",
       "      <td>0.43</td>\n",
       "    </tr>\n",
       "    <tr>\n",
       "      <th>3</th>\n",
       "      <td>Willingborotownship</td>\n",
       "      <td>1</td>\n",
       "      <td>0.04</td>\n",
       "      <td>0.77</td>\n",
       "      <td>1.00</td>\n",
       "      <td>0.08</td>\n",
       "      <td>0.12</td>\n",
       "      <td>0.10</td>\n",
       "      <td>0.51</td>\n",
       "      <td>0.50</td>\n",
       "      <td>...</td>\n",
       "      <td>0.00</td>\n",
       "      <td>0.19</td>\n",
       "      <td>0.30</td>\n",
       "      <td>0.73</td>\n",
       "      <td>0.64</td>\n",
       "      <td>0.65</td>\n",
       "      <td>0.02</td>\n",
       "      <td>0.39</td>\n",
       "      <td>0.28</td>\n",
       "      <td>0.12</td>\n",
       "    </tr>\n",
       "    <tr>\n",
       "      <th>4</th>\n",
       "      <td>Bethlehemtownship</td>\n",
       "      <td>1</td>\n",
       "      <td>0.01</td>\n",
       "      <td>0.55</td>\n",
       "      <td>0.02</td>\n",
       "      <td>0.95</td>\n",
       "      <td>0.09</td>\n",
       "      <td>0.05</td>\n",
       "      <td>0.38</td>\n",
       "      <td>0.38</td>\n",
       "      <td>...</td>\n",
       "      <td>0.00</td>\n",
       "      <td>0.11</td>\n",
       "      <td>0.72</td>\n",
       "      <td>0.64</td>\n",
       "      <td>0.61</td>\n",
       "      <td>0.53</td>\n",
       "      <td>0.04</td>\n",
       "      <td>0.09</td>\n",
       "      <td>0.02</td>\n",
       "      <td>0.03</td>\n",
       "    </tr>\n",
       "    <tr>\n",
       "      <th>...</th>\n",
       "      <td>...</td>\n",
       "      <td>...</td>\n",
       "      <td>...</td>\n",
       "      <td>...</td>\n",
       "      <td>...</td>\n",
       "      <td>...</td>\n",
       "      <td>...</td>\n",
       "      <td>...</td>\n",
       "      <td>...</td>\n",
       "      <td>...</td>\n",
       "      <td>...</td>\n",
       "      <td>...</td>\n",
       "      <td>...</td>\n",
       "      <td>...</td>\n",
       "      <td>...</td>\n",
       "      <td>...</td>\n",
       "      <td>...</td>\n",
       "      <td>...</td>\n",
       "      <td>...</td>\n",
       "      <td>...</td>\n",
       "      <td>...</td>\n",
       "    </tr>\n",
       "    <tr>\n",
       "      <th>1989</th>\n",
       "      <td>TempleTerracecity</td>\n",
       "      <td>10</td>\n",
       "      <td>0.01</td>\n",
       "      <td>0.40</td>\n",
       "      <td>0.10</td>\n",
       "      <td>0.87</td>\n",
       "      <td>0.12</td>\n",
       "      <td>0.16</td>\n",
       "      <td>0.43</td>\n",
       "      <td>0.51</td>\n",
       "      <td>...</td>\n",
       "      <td>0.00</td>\n",
       "      <td>0.22</td>\n",
       "      <td>0.28</td>\n",
       "      <td>0.34</td>\n",
       "      <td>0.48</td>\n",
       "      <td>0.39</td>\n",
       "      <td>0.01</td>\n",
       "      <td>0.28</td>\n",
       "      <td>0.05</td>\n",
       "      <td>0.09</td>\n",
       "    </tr>\n",
       "    <tr>\n",
       "      <th>1990</th>\n",
       "      <td>Seasidecity</td>\n",
       "      <td>10</td>\n",
       "      <td>0.05</td>\n",
       "      <td>0.96</td>\n",
       "      <td>0.46</td>\n",
       "      <td>0.28</td>\n",
       "      <td>0.83</td>\n",
       "      <td>0.32</td>\n",
       "      <td>0.69</td>\n",
       "      <td>0.86</td>\n",
       "      <td>...</td>\n",
       "      <td>0.00</td>\n",
       "      <td>0.53</td>\n",
       "      <td>0.25</td>\n",
       "      <td>0.17</td>\n",
       "      <td>0.10</td>\n",
       "      <td>0.00</td>\n",
       "      <td>0.02</td>\n",
       "      <td>0.37</td>\n",
       "      <td>0.20</td>\n",
       "      <td>0.45</td>\n",
       "    </tr>\n",
       "    <tr>\n",
       "      <th>1991</th>\n",
       "      <td>Waterburytown</td>\n",
       "      <td>10</td>\n",
       "      <td>0.16</td>\n",
       "      <td>0.37</td>\n",
       "      <td>0.25</td>\n",
       "      <td>0.69</td>\n",
       "      <td>0.04</td>\n",
       "      <td>0.25</td>\n",
       "      <td>0.35</td>\n",
       "      <td>0.50</td>\n",
       "      <td>...</td>\n",
       "      <td>0.02</td>\n",
       "      <td>0.25</td>\n",
       "      <td>0.68</td>\n",
       "      <td>0.61</td>\n",
       "      <td>0.79</td>\n",
       "      <td>0.76</td>\n",
       "      <td>0.08</td>\n",
       "      <td>0.32</td>\n",
       "      <td>0.18</td>\n",
       "      <td>0.23</td>\n",
       "    </tr>\n",
       "    <tr>\n",
       "      <th>1992</th>\n",
       "      <td>Walthamcity</td>\n",
       "      <td>10</td>\n",
       "      <td>0.08</td>\n",
       "      <td>0.51</td>\n",
       "      <td>0.06</td>\n",
       "      <td>0.87</td>\n",
       "      <td>0.22</td>\n",
       "      <td>0.10</td>\n",
       "      <td>0.58</td>\n",
       "      <td>0.74</td>\n",
       "      <td>...</td>\n",
       "      <td>0.01</td>\n",
       "      <td>0.45</td>\n",
       "      <td>0.64</td>\n",
       "      <td>0.54</td>\n",
       "      <td>0.59</td>\n",
       "      <td>0.52</td>\n",
       "      <td>0.03</td>\n",
       "      <td>0.38</td>\n",
       "      <td>0.33</td>\n",
       "      <td>0.19</td>\n",
       "    </tr>\n",
       "    <tr>\n",
       "      <th>1993</th>\n",
       "      <td>Ontariocity</td>\n",
       "      <td>10</td>\n",
       "      <td>0.20</td>\n",
       "      <td>0.78</td>\n",
       "      <td>0.14</td>\n",
       "      <td>0.46</td>\n",
       "      <td>0.24</td>\n",
       "      <td>0.77</td>\n",
       "      <td>0.50</td>\n",
       "      <td>0.62</td>\n",
       "      <td>...</td>\n",
       "      <td>0.08</td>\n",
       "      <td>0.68</td>\n",
       "      <td>0.50</td>\n",
       "      <td>0.34</td>\n",
       "      <td>0.35</td>\n",
       "      <td>0.68</td>\n",
       "      <td>0.11</td>\n",
       "      <td>0.30</td>\n",
       "      <td>0.05</td>\n",
       "      <td>0.48</td>\n",
       "    </tr>\n",
       "  </tbody>\n",
       "</table>\n",
       "<p>1994 rows × 102 columns</p>\n",
       "</div>"
      ],
      "text/plain": [
       "            communityname  fold  population  householdsize  racepctblack  \\\n",
       "0            Lakewoodcity     1        0.19           0.33          0.02   \n",
       "1             Tukwilacity     1        0.00           0.16          0.12   \n",
       "2            Aberdeentown     1        0.00           0.42          0.49   \n",
       "3     Willingborotownship     1        0.04           0.77          1.00   \n",
       "4       Bethlehemtownship     1        0.01           0.55          0.02   \n",
       "...                   ...   ...         ...            ...           ...   \n",
       "1989    TempleTerracecity    10        0.01           0.40          0.10   \n",
       "1990          Seasidecity    10        0.05           0.96          0.46   \n",
       "1991        Waterburytown    10        0.16           0.37          0.25   \n",
       "1992          Walthamcity    10        0.08           0.51          0.06   \n",
       "1993          Ontariocity    10        0.20           0.78          0.14   \n",
       "\n",
       "      racePctWhite  racePctAsian  racePctHisp  agePct12t21  agePct12t29  ...  \\\n",
       "0             0.90          0.12         0.17         0.34         0.47  ...   \n",
       "1             0.74          0.45         0.07         0.26         0.59  ...   \n",
       "2             0.56          0.17         0.04         0.39         0.47  ...   \n",
       "3             0.08          0.12         0.10         0.51         0.50  ...   \n",
       "4             0.95          0.09         0.05         0.38         0.38  ...   \n",
       "...            ...           ...          ...          ...          ...  ...   \n",
       "1989          0.87          0.12         0.16         0.43         0.51  ...   \n",
       "1990          0.28          0.83         0.32         0.69         0.86  ...   \n",
       "1991          0.69          0.04         0.25         0.35         0.50  ...   \n",
       "1992          0.87          0.22         0.10         0.58         0.74  ...   \n",
       "1993          0.46          0.24         0.77         0.50         0.62  ...   \n",
       "\n",
       "      NumStreet  PctForeignBorn  PctBornSameState  PctSameHouse85  \\\n",
       "0          0.00            0.12              0.42            0.50   \n",
       "1          0.00            0.21              0.50            0.34   \n",
       "2          0.00            0.14              0.49            0.54   \n",
       "3          0.00            0.19              0.30            0.73   \n",
       "4          0.00            0.11              0.72            0.64   \n",
       "...         ...             ...               ...             ...   \n",
       "1989       0.00            0.22              0.28            0.34   \n",
       "1990       0.00            0.53              0.25            0.17   \n",
       "1991       0.02            0.25              0.68            0.61   \n",
       "1992       0.01            0.45              0.64            0.54   \n",
       "1993       0.08            0.68              0.50            0.34   \n",
       "\n",
       "      PctSameCity85  PctSameState85  LandArea  PopDens  PctUsePubTrans  \\\n",
       "0              0.51            0.64      0.12     0.26            0.20   \n",
       "1              0.60            0.52      0.02     0.12            0.45   \n",
       "2              0.67            0.56      0.01     0.21            0.02   \n",
       "3              0.64            0.65      0.02     0.39            0.28   \n",
       "4              0.61            0.53      0.04     0.09            0.02   \n",
       "...             ...             ...       ...      ...             ...   \n",
       "1989           0.48            0.39      0.01     0.28            0.05   \n",
       "1990           0.10            0.00      0.02     0.37            0.20   \n",
       "1991           0.79            0.76      0.08     0.32            0.18   \n",
       "1992           0.59            0.52      0.03     0.38            0.33   \n",
       "1993           0.35            0.68      0.11     0.30            0.05   \n",
       "\n",
       "      ViolentCrimesPerPop  \n",
       "0                    0.20  \n",
       "1                    0.67  \n",
       "2                    0.43  \n",
       "3                    0.12  \n",
       "4                    0.03  \n",
       "...                   ...  \n",
       "1989                 0.09  \n",
       "1990                 0.45  \n",
       "1991                 0.23  \n",
       "1992                 0.19  \n",
       "1993                 0.48  \n",
       "\n",
       "[1994 rows x 102 columns]"
      ]
     },
     "execution_count": 3,
     "metadata": {},
     "output_type": "execute_result"
    }
   ],
   "source": [
    "crime = pd.read_csv(\"/Users/rohitguptha/Documents/Datasets/censusCrimeClean.csv\")\n",
    "crime"
   ]
  },
  {
   "cell_type": "code",
   "execution_count": 37,
   "id": "65996115",
   "metadata": {},
   "outputs": [
    {
     "data": {
      "text/plain": [
       "Index(['communityname', 'fold', 'population', 'householdsize', 'racepctblack',\n",
       "       'racePctWhite', 'racePctAsian', 'racePctHisp', 'agePct12t21',\n",
       "       'agePct12t29',\n",
       "       ...\n",
       "       'NumStreet', 'PctForeignBorn', 'PctBornSameState', 'PctSameHouse85',\n",
       "       'PctSameCity85', 'PctSameState85', 'LandArea', 'PopDens',\n",
       "       'PctUsePubTrans', 'ViolentCrimesPerPop'],\n",
       "      dtype='object', length=102)"
      ]
     },
     "execution_count": 37,
     "metadata": {},
     "output_type": "execute_result"
    }
   ],
   "source": [
    "crime.columns"
   ]
  },
  {
   "cell_type": "code",
   "execution_count": 6,
   "id": "3a31b93e",
   "metadata": {},
   "outputs": [],
   "source": [
    "column_1 = crime[\"householdsize\"]\n",
    "column_2 = crime[\"NumStreet\"]"
   ]
  },
  {
   "cell_type": "code",
   "execution_count": 9,
   "id": "1ec74a3d",
   "metadata": {},
   "outputs": [
    {
     "name": "stdout",
     "output_type": "stream",
     "text": [
      "The correlation coefficient is:  -0.04301097209338967\n",
      "P-value:  0.05481925893530269\n"
     ]
    }
   ],
   "source": [
    "correlation_coefficient, p_value = stats.pearsonr(column_1, column_2)\n",
    "print(\"The correlation coefficient is: \", correlation_coefficient)\n",
    "print(\"P-value: \", p_value)\n",
    "\n",
    "# A pearson correlation coefficient ranges from -1 to 1, with r = 1 being a perfectly positive linear relationship,\n",
    "# and r = -1 indiciating a perfectly negative linear relationship. r = 0 indicates there is no relationship\n",
    "# The p-value is used to determine if the linear relationship is statistically significant enough or not. "
   ]
  },
  {
   "cell_type": "markdown",
   "id": "fb7d2f1b",
   "metadata": {},
   "source": [
    " A pearson correlation coefficient ranges from -1 to 1, with r = 1 being a perfectly positive linear relationship,\n",
    "#and r = -1 indiciating a perfectly negative linear relationship. r = 0 indicates there is no relationship\n",
    "#The p-value is used to determine if the linear relationship is statistically significant enough or not. \n",
    "\n",
    "In this case, there is a very weak negative linear relationship (basically no relationship) between the house hold size and street number, with the p-value being higher the 0.05 threshold, so it is not statistically significant."
   ]
  },
  {
   "cell_type": "code",
   "execution_count": 10,
   "id": "27921f9b",
   "metadata": {},
   "outputs": [],
   "source": [
    "variable_1 = crime[\"medIncome\"]\n",
    "variable_2 = crime[\"ViolentCrimesPerPop\"]"
   ]
  },
  {
   "cell_type": "code",
   "execution_count": 13,
   "id": "6d013705",
   "metadata": {
    "scrolled": true
   },
   "outputs": [
    {
     "name": "stdout",
     "output_type": "stream",
     "text": [
      "The pearson coefficient is:  -0.4242206167261261\n",
      "P-value:  6.334424808048533e-88\n"
     ]
    }
   ],
   "source": [
    "pearson_coefficient, p_value = stats.pearsonr(variable_1, variable_2)\n",
    "print(\"The pearson coefficient is: \", pearson_coefficient)\n",
    "print(\"P-value: \", p_value)"
   ]
  },
  {
   "cell_type": "markdown",
   "id": "e9e422f3",
   "metadata": {},
   "source": [
    "The magnitude of -0.430 suggests that there is a negative linear relationship between these two variables,\n",
    "meaning that as one variable increases, the other tends to decrease linearly. \n",
    "The p-value being significantly smaller than the 0.05 threshold suggests that this linear relationship is statistically significant and cannot occur by chance alone."
   ]
  },
  {
   "cell_type": "code",
   "execution_count": 12,
   "id": "57945713",
   "metadata": {},
   "outputs": [
    {
     "name": "stdout",
     "output_type": "stream",
     "text": [
      "The spearman coefficient is:  -0.482169950997556\n",
      "P-value:  1.2978853095169542e-116\n"
     ]
    }
   ],
   "source": [
    "spearman_coefficient, p_value = stats.spearmanr(variable_1, variable_2)\n",
    "print(\"The spearman coefficient is: \", spearman_coefficient)\n",
    "print(\"P-value: \", p_value)"
   ]
  },
  {
   "cell_type": "markdown",
   "id": "6a989e80",
   "metadata": {},
   "source": [
    "The spearman correlation coefficient measures the strength and the direction of the monotonic relationship between two variables, and it does not just assume a linear relationship. \n",
    "\n",
    "The spearman coefficient is -0.482, suggesting that there is a negative monotonic relationship between the two variables, meaning as one increases, the other one decreases. P is also closer to 1 suggesting there is a stronger negative monotonic relationship.\n",
    "\n",
    "The p-value is approximately 1.30 x 10^-116 which is an extremely small value, indicating that the spearman correlation coefficient is highly statistically significant, hence it is impossible to assume that this observed virtual correlation occurred by chance alone."
   ]
  },
  {
   "cell_type": "code",
   "execution_count": 23,
   "id": "0b7fb82a",
   "metadata": {},
   "outputs": [],
   "source": [
    "def data_statistics(df):\n",
    "    statistics = []\n",
    "    \n",
    "    numeric_columns = df.select_dtypes(include=['number']).columns\n",
    "    \n",
    "    for column in numeric_columns:\n",
    "        summary_stats = df[column].describe()\n",
    "        skewness = df[column].skew()\n",
    "        kurt = df[column].kurtosis()\n",
    "        \n",
    "        statistics.append({\n",
    "            \"Column\": column,\n",
    "            \"Mean\": summary_stats['mean'],\n",
    "            \"Std\": summary_stats['std'],\n",
    "            \"Min\": summary_stats['min'],\n",
    "            \"25%\": summary_stats['25%'],\n",
    "            \"50%\": summary_stats['50%'],\n",
    "            \"75%\": summary_stats['75%'],\n",
    "            \"Max\": summary_stats['max'],\n",
    "            \"Skewness\": skewness,\n",
    "            \"Kurtosis\": kurt\n",
    "        })\n",
    "    \n",
    "    return pd.DataFrame(statistics)"
   ]
  },
  {
   "cell_type": "code",
   "execution_count": 25,
   "id": "9a49550e",
   "metadata": {},
   "outputs": [
    {
     "data": {
      "text/html": [
       "<div>\n",
       "<style scoped>\n",
       "    .dataframe tbody tr th:only-of-type {\n",
       "        vertical-align: middle;\n",
       "    }\n",
       "\n",
       "    .dataframe tbody tr th {\n",
       "        vertical-align: top;\n",
       "    }\n",
       "\n",
       "    .dataframe thead th {\n",
       "        text-align: right;\n",
       "    }\n",
       "</style>\n",
       "<table border=\"1\" class=\"dataframe\">\n",
       "  <thead>\n",
       "    <tr style=\"text-align: right;\">\n",
       "      <th></th>\n",
       "      <th>medIncome</th>\n",
       "      <th>ViolentCrimesPerPop</th>\n",
       "    </tr>\n",
       "  </thead>\n",
       "  <tbody>\n",
       "    <tr>\n",
       "      <th>count</th>\n",
       "      <td>1994.000000</td>\n",
       "      <td>1994.000000</td>\n",
       "    </tr>\n",
       "    <tr>\n",
       "      <th>mean</th>\n",
       "      <td>0.361123</td>\n",
       "      <td>0.237979</td>\n",
       "    </tr>\n",
       "    <tr>\n",
       "      <th>std</th>\n",
       "      <td>0.209362</td>\n",
       "      <td>0.232985</td>\n",
       "    </tr>\n",
       "    <tr>\n",
       "      <th>min</th>\n",
       "      <td>0.000000</td>\n",
       "      <td>0.000000</td>\n",
       "    </tr>\n",
       "    <tr>\n",
       "      <th>25%</th>\n",
       "      <td>0.200000</td>\n",
       "      <td>0.070000</td>\n",
       "    </tr>\n",
       "    <tr>\n",
       "      <th>50%</th>\n",
       "      <td>0.320000</td>\n",
       "      <td>0.150000</td>\n",
       "    </tr>\n",
       "    <tr>\n",
       "      <th>75%</th>\n",
       "      <td>0.490000</td>\n",
       "      <td>0.330000</td>\n",
       "    </tr>\n",
       "    <tr>\n",
       "      <th>max</th>\n",
       "      <td>1.000000</td>\n",
       "      <td>1.000000</td>\n",
       "    </tr>\n",
       "  </tbody>\n",
       "</table>\n",
       "</div>"
      ],
      "text/plain": [
       "         medIncome  ViolentCrimesPerPop\n",
       "count  1994.000000          1994.000000\n",
       "mean      0.361123             0.237979\n",
       "std       0.209362             0.232985\n",
       "min       0.000000             0.000000\n",
       "25%       0.200000             0.070000\n",
       "50%       0.320000             0.150000\n",
       "75%       0.490000             0.330000\n",
       "max       1.000000             1.000000"
      ]
     },
     "execution_count": 25,
     "metadata": {},
     "output_type": "execute_result"
    }
   ],
   "source": [
    "two_variables = crime[[\"medIncome\", \"ViolentCrimesPerPop\"]]\n",
    "two_variables.describe()"
   ]
  },
  {
   "cell_type": "code",
   "execution_count": 26,
   "id": "c86de57c",
   "metadata": {},
   "outputs": [
    {
     "data": {
      "text/html": [
       "<div>\n",
       "<style scoped>\n",
       "    .dataframe tbody tr th:only-of-type {\n",
       "        vertical-align: middle;\n",
       "    }\n",
       "\n",
       "    .dataframe tbody tr th {\n",
       "        vertical-align: top;\n",
       "    }\n",
       "\n",
       "    .dataframe thead th {\n",
       "        text-align: right;\n",
       "    }\n",
       "</style>\n",
       "<table border=\"1\" class=\"dataframe\">\n",
       "  <thead>\n",
       "    <tr style=\"text-align: right;\">\n",
       "      <th></th>\n",
       "      <th>Column</th>\n",
       "      <th>Mean</th>\n",
       "      <th>Std</th>\n",
       "      <th>Min</th>\n",
       "      <th>25%</th>\n",
       "      <th>50%</th>\n",
       "      <th>75%</th>\n",
       "      <th>Max</th>\n",
       "      <th>Skewness</th>\n",
       "      <th>Kurtosis</th>\n",
       "    </tr>\n",
       "  </thead>\n",
       "  <tbody>\n",
       "    <tr>\n",
       "      <th>0</th>\n",
       "      <td>medIncome</td>\n",
       "      <td>0.361123</td>\n",
       "      <td>0.209362</td>\n",
       "      <td>0.0</td>\n",
       "      <td>0.20</td>\n",
       "      <td>0.32</td>\n",
       "      <td>0.49</td>\n",
       "      <td>1.0</td>\n",
       "      <td>0.943588</td>\n",
       "      <td>0.461141</td>\n",
       "    </tr>\n",
       "    <tr>\n",
       "      <th>1</th>\n",
       "      <td>ViolentCrimesPerPop</td>\n",
       "      <td>0.237979</td>\n",
       "      <td>0.232985</td>\n",
       "      <td>0.0</td>\n",
       "      <td>0.07</td>\n",
       "      <td>0.15</td>\n",
       "      <td>0.33</td>\n",
       "      <td>1.0</td>\n",
       "      <td>1.522598</td>\n",
       "      <td>1.833268</td>\n",
       "    </tr>\n",
       "  </tbody>\n",
       "</table>\n",
       "</div>"
      ],
      "text/plain": [
       "                Column      Mean       Std  Min   25%   50%   75%  Max  \\\n",
       "0            medIncome  0.361123  0.209362  0.0  0.20  0.32  0.49  1.0   \n",
       "1  ViolentCrimesPerPop  0.237979  0.232985  0.0  0.07  0.15  0.33  1.0   \n",
       "\n",
       "   Skewness  Kurtosis  \n",
       "0  0.943588  0.461141  \n",
       "1  1.522598  1.833268  "
      ]
     },
     "execution_count": 26,
     "metadata": {},
     "output_type": "execute_result"
    }
   ],
   "source": [
    "data_statistics(two_variables)"
   ]
  },
  {
   "cell_type": "code",
   "execution_count": 18,
   "id": "e1796394",
   "metadata": {},
   "outputs": [
    {
     "data": {
      "image/png": "[encoded data removed]",
      "text/plain": [
       "<Figure size 720x504 with 1 Axes>"
      ]
     },
     "metadata": {
      "needs_background": "light"
     },
     "output_type": "display_data"
    }
   ],
   "source": [
    "# Assuming variable_1 and variable_2 are your data\n",
    "slope, intercept = np.polyfit(variable_1, variable_2, 1)\n",
    "\n",
    "# Create a scatter plot\n",
    "plt.figure(figsize=(10, 7))\n",
    "plt.scatter(variable_1, variable_2, label='Data Points')\n",
    "\n",
    "# Plot the line of best fit\n",
    "plt.plot(variable_1, slope * variable_1 + intercept, color='red', label='Line of Best Fit')\n",
    "\n",
    "\n",
    "# Add labels to the line of best fit\n",
    "label = f'Line of Best Fit: y = {slope:.2f}x + {intercept:.2f}'\n",
    "plt.text(variable_1.min(), (slope * variable_1 + intercept).min(), label, color='red', fontsize=12, ha='right', va='top')\n",
    "\n",
    "plt.title('Scatter Plot with Line of Best Fit')\n",
    "plt.xlabel('Medicine Income')\n",
    "plt.ylabel('Violent Crimes')\n",
    "\n",
    "plt.legend()\n",
    "plt.grid(True)\n",
    "plt.show()"
   ]
  },
  {
   "cell_type": "markdown",
   "id": "3ac07365",
   "metadata": {},
   "source": [
    "Comments:\n",
    "- There is a line of best fit and a general trend, however there are plenty of data points which deviate from this trend, suggesting a weaker negative linear relationship.\n",
    "- ViolentCrimes per Pop has a higher skewness and kurtosis, as we can see on the scatterplot when observing the y axis, with more gaps between data points vertically in contrast with horizontally ( x - axis).\n",
    "- One data point at (1.0, 0.83) respectively which is an anomaly."
   ]
  },
  {
   "cell_type": "code",
   "execution_count": 31,
   "id": "7767c413",
   "metadata": {},
   "outputs": [],
   "source": [
    "def crime_comparison(variable_1, variable_2, data):\n",
    "    \n",
    "    if variable_1 not in data.columns or variable_2 not in data.columns:\n",
    "        raise ValueError(\"Both variables must be columns in the dataset.\")\n",
    "\n",
    "    variable_1_values = crime[variable_1]\n",
    "    variable_2_values = crime[variable_2]\n",
    "\n",
    "    pearson_correlation, pearson_p_value = stats.pearsonr(variable_1_values, variable_2_values)\n",
    "    spearman_correlation, spearman_p_value = stats.spearmanr(variable_1_values, variable_2_values)\n",
    "\n",
    "    return pearson_correlation, spearman_correlation, pearson_p_value, spearman_p_value\n"
   ]
  },
  {
   "cell_type": "code",
   "execution_count": 33,
   "id": "93a0371e",
   "metadata": {},
   "outputs": [
    {
     "data": {
      "text/plain": [
       "(-0.04301097209338967,\n",
       " -0.08410007083927794,\n",
       " 0.05481925893530269,\n",
       " 0.00017009628787240818)"
      ]
     },
     "execution_count": 33,
     "metadata": {},
     "output_type": "execute_result"
    }
   ],
   "source": [
    "crime_comparison(\"householdsize\", \"NumStreet\", crime)"
   ]
  },
  {
   "cell_type": "code",
   "execution_count": 34,
   "id": "3c50ffec",
   "metadata": {},
   "outputs": [],
   "source": [
    "# Function to compare different variables in the dataframe\n",
    "\n",
    "def crime_comparison(variable_1, variable_2, data):\n",
    "\n",
    "    if variable_1 not in data.columns or variable_2 not in data.columns:\n",
    "        raise ValueError(\"Both variables must be columns in the dataset.\")\n",
    "\n",
    "    variable_1_values = data[variable_1]\n",
    "    variable_2_values = data[variable_2]\n",
    "\n",
    "    # Calculate correlations\n",
    "    pearson_correlation, pearson_p_value = stats.pearsonr(variable_1_values, variable_2_values)\n",
    "    spearman_correlation, spearman_p_value = stats.spearmanr(variable_1_values, variable_2_values)\n",
    "\n",
    "    # Create a scatter plot\n",
    "    plt.figure(figsize=(10, 7))\n",
    "    plt.scatter(variable_1_values, variable_2_values, label='Data Points')\n",
    "\n",
    "    # Calculate the line of best fit\n",
    "    slope, intercept = np.polyfit(variable_1_values, variable_2_values, 1)\n",
    "    plt.plot(variable_1_values, slope * variable_1_values + intercept, color='red', label='Line of Best Fit')\n",
    "\n",
    "    # Add labels to the line of best fit\n",
    "    label = f'Line of Best Fit: y = {slope:.2f}x + {intercept:.2f}'\n",
    "    plt.text(variable_1_values.min(), (slope * variable_1_values + intercept).min(), label, color='red', fontsize=12, ha='right', va='top')\n",
    "\n",
    "    plt.title('Scatter Plot with Line of Best Fit')\n",
    "    plt.xlabel(variable_1)\n",
    "    plt.ylabel(variable_2)\n",
    "\n",
    "    plt.legend()\n",
    "    plt.grid(True)\n",
    "    plt.show()\n",
    "\n",
    "    return pearson_correlation, spearman_correlation, pearson_p_value, spearman_p_value"
   ]
  },
  {
   "cell_type": "code",
   "execution_count": 35,
   "id": "1d517500",
   "metadata": {},
   "outputs": [
    {
     "data": {
      "image/png": "[encoded data removed]",
      "text/plain": [
       "<Figure size 720x504 with 1 Axes>"
      ]
     },
     "metadata": {
      "needs_background": "light"
     },
     "output_type": "display_data"
    },
    {
     "data": {
      "text/plain": [
       "(-0.04301097209338967,\n",
       " -0.08410007083927794,\n",
       " 0.05481925893530269,\n",
       " 0.00017009628787240818)"
      ]
     },
     "execution_count": 35,
     "metadata": {},
     "output_type": "execute_result"
    }
   ],
   "source": [
    "crime_comparison(\"householdsize\", \"NumStreet\", crime)"
   ]
  },
  {
   "cell_type": "code",
   "execution_count": 40,
   "id": "e2444578",
   "metadata": {},
   "outputs": [
    {
     "data": {
      "text/plain": [
       "Index(['communityname', 'fold', 'population', 'householdsize', 'racepctblack',\n",
       "       'racePctWhite', 'racePctAsian', 'racePctHisp', 'agePct12t21',\n",
       "       'agePct12t29',\n",
       "       ...\n",
       "       'NumStreet', 'PctForeignBorn', 'PctBornSameState', 'PctSameHouse85',\n",
       "       'PctSameCity85', 'PctSameState85', 'LandArea', 'PopDens',\n",
       "       'PctUsePubTrans', 'ViolentCrimesPerPop'],\n",
       "      dtype='object', length=102)"
      ]
     },
     "execution_count": 40,
     "metadata": {},
     "output_type": "execute_result"
    }
   ],
   "source": [
    "crime.columns"
   ]
  },
  {
   "cell_type": "code",
   "execution_count": 43,
   "id": "5fcbc13f",
   "metadata": {},
   "outputs": [
    {
     "data": {
      "image/png": "[encoded data removed]",
      "text/plain": [
       "<Figure size 720x504 with 1 Axes>"
      ]
     },
     "metadata": {
      "needs_background": "light"
     },
     "output_type": "display_data"
    },
    {
     "data": {
      "text/plain": [
       "(0.6312636346597023,\n",
       " 0.6042767186389729,\n",
       " 3.757220267780963e-222,\n",
       " 8.52758985689894e-199)"
      ]
     },
     "execution_count": 43,
     "metadata": {},
     "output_type": "execute_result"
    }
   ],
   "source": [
    "crime_comparison(\"racepctblack\", \"ViolentCrimesPerPop\", crime)"
   ]
  },
  {
   "cell_type": "markdown",
   "id": "7f03f69a",
   "metadata": {},
   "source": [
    "## Significance Testing"
   ]
  },
  {
   "cell_type": "code",
   "execution_count": 92,
   "id": "b86f11ce",
   "metadata": {},
   "outputs": [
    {
     "data": {
      "text/html": [
       "<div>\n",
       "<style scoped>\n",
       "    .dataframe tbody tr th:only-of-type {\n",
       "        vertical-align: middle;\n",
       "    }\n",
       "\n",
       "    .dataframe tbody tr th {\n",
       "        vertical-align: top;\n",
       "    }\n",
       "\n",
       "    .dataframe thead th {\n",
       "        text-align: right;\n",
       "    }\n",
       "</style>\n",
       "<table border=\"1\" class=\"dataframe\">\n",
       "  <thead>\n",
       "    <tr style=\"text-align: right;\">\n",
       "      <th></th>\n",
       "      <th>age</th>\n",
       "      <th>sex</th>\n",
       "      <th>cp</th>\n",
       "      <th>trestbps</th>\n",
       "      <th>chol</th>\n",
       "      <th>fbs</th>\n",
       "      <th>restecg</th>\n",
       "      <th>thalach</th>\n",
       "      <th>exang</th>\n",
       "      <th>oldpeak</th>\n",
       "      <th>slope</th>\n",
       "      <th>ca</th>\n",
       "      <th>thal</th>\n",
       "      <th>target</th>\n",
       "      <th>hasDisease</th>\n",
       "    </tr>\n",
       "  </thead>\n",
       "  <tbody>\n",
       "    <tr>\n",
       "      <th>0</th>\n",
       "      <td>63</td>\n",
       "      <td>1</td>\n",
       "      <td>3</td>\n",
       "      <td>145</td>\n",
       "      <td>233</td>\n",
       "      <td>1</td>\n",
       "      <td>0</td>\n",
       "      <td>150</td>\n",
       "      <td>0</td>\n",
       "      <td>2.3</td>\n",
       "      <td>0</td>\n",
       "      <td>0</td>\n",
       "      <td>1</td>\n",
       "      <td>1</td>\n",
       "      <td>False</td>\n",
       "    </tr>\n",
       "    <tr>\n",
       "      <th>1</th>\n",
       "      <td>37</td>\n",
       "      <td>1</td>\n",
       "      <td>2</td>\n",
       "      <td>130</td>\n",
       "      <td>250</td>\n",
       "      <td>0</td>\n",
       "      <td>1</td>\n",
       "      <td>187</td>\n",
       "      <td>0</td>\n",
       "      <td>3.5</td>\n",
       "      <td>0</td>\n",
       "      <td>0</td>\n",
       "      <td>2</td>\n",
       "      <td>1</td>\n",
       "      <td>False</td>\n",
       "    </tr>\n",
       "    <tr>\n",
       "      <th>2</th>\n",
       "      <td>41</td>\n",
       "      <td>0</td>\n",
       "      <td>1</td>\n",
       "      <td>130</td>\n",
       "      <td>204</td>\n",
       "      <td>0</td>\n",
       "      <td>0</td>\n",
       "      <td>172</td>\n",
       "      <td>0</td>\n",
       "      <td>1.4</td>\n",
       "      <td>2</td>\n",
       "      <td>0</td>\n",
       "      <td>2</td>\n",
       "      <td>1</td>\n",
       "      <td>False</td>\n",
       "    </tr>\n",
       "    <tr>\n",
       "      <th>3</th>\n",
       "      <td>56</td>\n",
       "      <td>1</td>\n",
       "      <td>1</td>\n",
       "      <td>120</td>\n",
       "      <td>236</td>\n",
       "      <td>0</td>\n",
       "      <td>1</td>\n",
       "      <td>178</td>\n",
       "      <td>0</td>\n",
       "      <td>0.8</td>\n",
       "      <td>2</td>\n",
       "      <td>0</td>\n",
       "      <td>2</td>\n",
       "      <td>1</td>\n",
       "      <td>False</td>\n",
       "    </tr>\n",
       "    <tr>\n",
       "      <th>4</th>\n",
       "      <td>57</td>\n",
       "      <td>0</td>\n",
       "      <td>0</td>\n",
       "      <td>120</td>\n",
       "      <td>354</td>\n",
       "      <td>0</td>\n",
       "      <td>1</td>\n",
       "      <td>163</td>\n",
       "      <td>1</td>\n",
       "      <td>0.6</td>\n",
       "      <td>2</td>\n",
       "      <td>0</td>\n",
       "      <td>2</td>\n",
       "      <td>1</td>\n",
       "      <td>False</td>\n",
       "    </tr>\n",
       "    <tr>\n",
       "      <th>...</th>\n",
       "      <td>...</td>\n",
       "      <td>...</td>\n",
       "      <td>...</td>\n",
       "      <td>...</td>\n",
       "      <td>...</td>\n",
       "      <td>...</td>\n",
       "      <td>...</td>\n",
       "      <td>...</td>\n",
       "      <td>...</td>\n",
       "      <td>...</td>\n",
       "      <td>...</td>\n",
       "      <td>...</td>\n",
       "      <td>...</td>\n",
       "      <td>...</td>\n",
       "      <td>...</td>\n",
       "    </tr>\n",
       "    <tr>\n",
       "      <th>298</th>\n",
       "      <td>57</td>\n",
       "      <td>0</td>\n",
       "      <td>0</td>\n",
       "      <td>140</td>\n",
       "      <td>241</td>\n",
       "      <td>0</td>\n",
       "      <td>1</td>\n",
       "      <td>123</td>\n",
       "      <td>1</td>\n",
       "      <td>0.2</td>\n",
       "      <td>1</td>\n",
       "      <td>0</td>\n",
       "      <td>3</td>\n",
       "      <td>0</td>\n",
       "      <td>True</td>\n",
       "    </tr>\n",
       "    <tr>\n",
       "      <th>299</th>\n",
       "      <td>45</td>\n",
       "      <td>1</td>\n",
       "      <td>3</td>\n",
       "      <td>110</td>\n",
       "      <td>264</td>\n",
       "      <td>0</td>\n",
       "      <td>1</td>\n",
       "      <td>132</td>\n",
       "      <td>0</td>\n",
       "      <td>1.2</td>\n",
       "      <td>1</td>\n",
       "      <td>0</td>\n",
       "      <td>3</td>\n",
       "      <td>0</td>\n",
       "      <td>True</td>\n",
       "    </tr>\n",
       "    <tr>\n",
       "      <th>300</th>\n",
       "      <td>68</td>\n",
       "      <td>1</td>\n",
       "      <td>0</td>\n",
       "      <td>144</td>\n",
       "      <td>193</td>\n",
       "      <td>1</td>\n",
       "      <td>1</td>\n",
       "      <td>141</td>\n",
       "      <td>0</td>\n",
       "      <td>3.4</td>\n",
       "      <td>1</td>\n",
       "      <td>2</td>\n",
       "      <td>3</td>\n",
       "      <td>0</td>\n",
       "      <td>True</td>\n",
       "    </tr>\n",
       "    <tr>\n",
       "      <th>301</th>\n",
       "      <td>57</td>\n",
       "      <td>1</td>\n",
       "      <td>0</td>\n",
       "      <td>130</td>\n",
       "      <td>131</td>\n",
       "      <td>0</td>\n",
       "      <td>1</td>\n",
       "      <td>115</td>\n",
       "      <td>1</td>\n",
       "      <td>1.2</td>\n",
       "      <td>1</td>\n",
       "      <td>1</td>\n",
       "      <td>3</td>\n",
       "      <td>0</td>\n",
       "      <td>True</td>\n",
       "    </tr>\n",
       "    <tr>\n",
       "      <th>302</th>\n",
       "      <td>57</td>\n",
       "      <td>0</td>\n",
       "      <td>1</td>\n",
       "      <td>130</td>\n",
       "      <td>236</td>\n",
       "      <td>0</td>\n",
       "      <td>0</td>\n",
       "      <td>174</td>\n",
       "      <td>0</td>\n",
       "      <td>0.0</td>\n",
       "      <td>1</td>\n",
       "      <td>1</td>\n",
       "      <td>2</td>\n",
       "      <td>0</td>\n",
       "      <td>True</td>\n",
       "    </tr>\n",
       "  </tbody>\n",
       "</table>\n",
       "<p>303 rows × 15 columns</p>\n",
       "</div>"
      ],
      "text/plain": [
       "     age  sex  cp  trestbps  chol  fbs  restecg  thalach  exang  oldpeak  \\\n",
       "0     63    1   3       145   233    1        0      150      0      2.3   \n",
       "1     37    1   2       130   250    0        1      187      0      3.5   \n",
       "2     41    0   1       130   204    0        0      172      0      1.4   \n",
       "3     56    1   1       120   236    0        1      178      0      0.8   \n",
       "4     57    0   0       120   354    0        1      163      1      0.6   \n",
       "..   ...  ...  ..       ...   ...  ...      ...      ...    ...      ...   \n",
       "298   57    0   0       140   241    0        1      123      1      0.2   \n",
       "299   45    1   3       110   264    0        1      132      0      1.2   \n",
       "300   68    1   0       144   193    1        1      141      0      3.4   \n",
       "301   57    1   0       130   131    0        1      115      1      1.2   \n",
       "302   57    0   1       130   236    0        0      174      0      0.0   \n",
       "\n",
       "     slope  ca  thal  target  hasDisease  \n",
       "0        0   0     1       1       False  \n",
       "1        0   0     2       1       False  \n",
       "2        2   0     2       1       False  \n",
       "3        2   0     2       1       False  \n",
       "4        2   0     2       1       False  \n",
       "..     ...  ..   ...     ...         ...  \n",
       "298      1   0     3       0        True  \n",
       "299      1   0     3       0        True  \n",
       "300      1   2     3       0        True  \n",
       "301      1   1     3       0        True  \n",
       "302      1   1     2       0        True  \n",
       "\n",
       "[303 rows x 15 columns]"
      ]
     },
     "execution_count": 92,
     "metadata": {},
     "output_type": "execute_result"
    }
   ],
   "source": [
    "heart"
   ]
  },
  {
   "cell_type": "code",
   "execution_count": 91,
   "id": "452d224f",
   "metadata": {},
   "outputs": [
    {
     "data": {
      "text/plain": [
       "0      False\n",
       "1      False\n",
       "2      False\n",
       "3      False\n",
       "4      False\n",
       "       ...  \n",
       "298     True\n",
       "299     True\n",
       "300     True\n",
       "301     True\n",
       "302     True\n",
       "Name: hasDisease, Length: 303, dtype: bool"
      ]
     },
     "execution_count": 91,
     "metadata": {},
     "output_type": "execute_result"
    }
   ],
   "source": [
    "heart = pd.read_csv(\"/Users/rohitguptha/Documents/Datasets/heart.csv\")"
   ]
  },
  {
   "cell_type": "code",
   "execution_count": 99,
   "id": "a74b5bd8",
   "metadata": {},
   "outputs": [],
   "source": [
    "def target_mapping(x):\n",
    "    if x == 1:\n",
    "        return False\n",
    "    else:\n",
    "        return True\n",
    "\n",
    "heart[\"hasDisease\"] = heart[\"target\"].apply(target_mapping)\n",
    "\n",
    "heart[\"sex_1\"] = heart[\"sex\"].replace({1: \"Male\", 0: \"Female\"})"
   ]
  },
  {
   "cell_type": "code",
   "execution_count": 47,
   "id": "165777af",
   "metadata": {},
   "outputs": [],
   "source": [
    "heart_1 = heart[heart[\"target\"] == 1]\n",
    "heart_0 = heart[heart[\"target\"] == 0]"
   ]
  },
  {
   "cell_type": "code",
   "execution_count": 50,
   "id": "aa9f004b",
   "metadata": {},
   "outputs": [
    {
     "data": {
      "text/plain": [
       "age          52.496970\n",
       "sex           0.563636\n",
       "cp            1.375758\n",
       "trestbps    129.303030\n",
       "chol        242.230303\n",
       "fbs           0.139394\n",
       "restecg       0.593939\n",
       "thalach     158.466667\n",
       "exang         0.139394\n",
       "oldpeak       0.583030\n",
       "slope         1.593939\n",
       "ca            0.363636\n",
       "thal          2.121212\n",
       "target        1.000000\n",
       "dtype: float64"
      ]
     },
     "execution_count": 50,
     "metadata": {},
     "output_type": "execute_result"
    }
   ],
   "source": [
    "heart_1[\"trestbps\"].mean()"
   ]
  },
  {
   "cell_type": "markdown",
   "id": "3c10e8d9",
   "metadata": {},
   "source": [
    "#### Comparing means and standard deviations of both columns"
   ]
  },
  {
   "cell_type": "code",
   "execution_count": 59,
   "id": "d99319ad",
   "metadata": {},
   "outputs": [
    {
     "name": "stdout",
     "output_type": "stream",
     "text": [
      "134.3985507246377\n",
      "18.72994396158135\n"
     ]
    }
   ],
   "source": [
    "print(heart_0[\"trestbps\"].mean())\n",
    "print(heart_0[\"trestbps\"].std())"
   ]
  },
  {
   "cell_type": "code",
   "execution_count": 60,
   "id": "77989581",
   "metadata": {},
   "outputs": [
    {
     "name": "stdout",
     "output_type": "stream",
     "text": [
      "129.3030303030303\n",
      "16.169613266874865\n"
     ]
    }
   ],
   "source": [
    "print(heart_1[\"trestbps\"].mean())\n",
    "print(heart_1[\"trestbps\"].std())"
   ]
  },
  {
   "cell_type": "code",
   "execution_count": 61,
   "id": "ac3a2946",
   "metadata": {},
   "outputs": [],
   "source": [
    "heart_0rbp = heart_0[\"trestbps\"] \n",
    "heart_1rbp = heart_1[\"trestbps\"]"
   ]
  },
  {
   "cell_type": "code",
   "execution_count": 68,
   "id": "a171dcb6",
   "metadata": {},
   "outputs": [
    {
     "data": {
      "image/png": "[encoded data removed]",
      "text/plain": [
       "<Figure size 864x432 with 2 Axes>"
      ]
     },
     "metadata": {
      "needs_background": "light"
     },
     "output_type": "display_data"
    }
   ],
   "source": [
    "# Create a figure with two subplots arranged side by side\n",
    "fig, (ax1, ax2) = plt.subplots(1, 2, figsize=(12, 6))\n",
    "\n",
    "# Set titles for both subplots\n",
    "ax1.set_title(\"Resting Heart Rate w.r.t people without Heart Disease\")\n",
    "ax2.set_title(\"Resting Heart Rate w.r.t people with Heart Disease\")\n",
    "\n",
    "# Create boxplots in each subplot\n",
    "ax1.boxplot(heart_0rbp)\n",
    "ax2.boxplot(heart_1rbp)\n",
    "\n",
    "# Set labels for x-axis (optional)\n",
    "ax1.set_xticklabels([\"Without Heart Disease\"])\n",
    "ax2.set_xticklabels([\"With Heart Disease\"])\n",
    "\n",
    "# Add labels for y-axis\n",
    "ax1.set_ylabel(\"Resting Heart Rate\")\n",
    "ax2.set_ylabel(\"Resting Heart Rate\")\n",
    "\n",
    "# Display the plot\n",
    "plt.tight_layout()  # Ensures proper spacing between subplots\n",
    "plt.show()"
   ]
  },
  {
   "cell_type": "code",
   "execution_count": 69,
   "id": "03150592",
   "metadata": {},
   "outputs": [
    {
     "data": {
      "image/png": "[encoded data removed]",
      "text/plain": [
       "<Figure size 864x432 with 2 Axes>"
      ]
     },
     "metadata": {
      "needs_background": "light"
     },
     "output_type": "display_data"
    }
   ],
   "source": [
    "# Create a figure with two subplots arranged side by side\n",
    "fig, (ax1, ax2) = plt.subplots(1, 2, figsize=(12, 6))\n",
    "\n",
    "# Set titles for both subplots\n",
    "ax1.set_title(\"Distribution of Resting Heart Rate w.r.t People without Heart Disease\")\n",
    "ax2.set_title(\"Distribution of Resting Heart Rate w.r.t People with Heart Disease\")\n",
    "\n",
    "# Create histograms for both subplots with 20 bins\n",
    "ax1.hist(heart_0rbp, bins=20)\n",
    "ax2.hist(heart_1rbp, bins=20)\n",
    "\n",
    "# Set labels for x-axis (optional)\n",
    "ax1.set_xlabel(\"Resting Heart Rate\")\n",
    "ax2.set_xlabel(\"Resting Heart Rate\")\n",
    "\n",
    "# Set labels for y-axis (optional)\n",
    "ax1.set_ylabel(\"Frequency\")\n",
    "ax2.set_ylabel(\"Frequency\")\n",
    "\n",
    "# Display the plot\n",
    "plt.tight_layout()  # Ensures proper spacing between subplots\n",
    "plt.show()"
   ]
  },
  {
   "cell_type": "code",
   "execution_count": 76,
   "id": "8a3bf793",
   "metadata": {},
   "outputs": [
    {
     "name": "stdout",
     "output_type": "stream",
     "text": [
      "The t-test statistic is:  2.5412927171039\n",
      "The p_value statistic is:  0.011546059200233312\n"
     ]
    }
   ],
   "source": [
    "# Using the t-test for comparison\n",
    "heart_1 = heart[heart[\"target\"] == 1][\"trestbps\"]\n",
    "heart_0 = heart[heart[\"target\"] == 0][\"trestbps\"]\n",
    "\n",
    "stat, p_value = stats.ttest_ind(heart_0.values, heart_1.values)\n",
    "\n",
    "print(\"The t-test statistic is: \", stat)\n",
    "print(\"The p_value statistic is: \", p_value)"
   ]
  },
  {
   "cell_type": "markdown",
   "id": "e4e40fa0",
   "metadata": {},
   "source": [
    "Conclusions:\n",
    "- The t-test statistic suggests that there is a difference between the two groups\n",
    "- The p_value suggests that there is only a small difference between the two groups, however the observed difference between the two groups is statistically significant."
   ]
  },
  {
   "cell_type": "code",
   "execution_count": 83,
   "id": "9681f284",
   "metadata": {},
   "outputs": [],
   "source": [
    "from numpy import mean, var, sqrt\n",
    "\n",
    "\n",
    "def cohen_d(d1, d2):\n",
    " # calculate the size of samples\n",
    " n1, n2 = len(d1), len(d2)\n",
    " # calculate the variance of the samples\n",
    " s1, s2 = var(d1, ddof=1), var(d2, ddof=1)\n",
    " # calculate the pooled standard deviation\n",
    " s = sqrt(((n1 - 1) * s1 + (n2 - 1) * s2) / (n1 + n2 - 2))\n",
    " # calculate the means of the samples\n",
    " u1, u2 = mean(d1), mean(d2)\n",
    " # calculate the effect size\n",
    " return abs(u1 - u2) / s"
   ]
  },
  {
   "cell_type": "code",
   "execution_count": 84,
   "id": "acb53f3f",
   "metadata": {},
   "outputs": [
    {
     "data": {
      "text/plain": [
       "0.2931530998143617"
      ]
     },
     "execution_count": 84,
     "metadata": {},
     "output_type": "execute_result"
    }
   ],
   "source": [
    "cohen_d(heart_1, heart_0)"
   ]
  },
  {
   "cell_type": "markdown",
   "id": "cd5ff728",
   "metadata": {},
   "source": [
    "Conclusions (Overall):\n",
    "- Cohen's D test is used to provide information about the size of the difference between the two groups (0.2 is small, 0.5 is moderate and 0.8 is large)\n",
    "- This Cohen D test is moderately large suggesting that the statistical significance of the data has a small effect size on the overall standard deviation"
   ]
  },
  {
   "cell_type": "code",
   "execution_count": 85,
   "id": "0bb8bec7",
   "metadata": {},
   "outputs": [
    {
     "name": "stdout",
     "output_type": "stream",
     "text": [
      "The t-test statistic is:  0.395246621112623\n",
      "The p_value statistic is:  0.6931776594224206\n"
     ]
    }
   ],
   "source": [
    "heart_1_gm = heart[(heart[\"target\"] == 1) & (heart[\"sex\"] == 1)][\"trestbps\"]\n",
    "heart_1_gf = heart[(heart[\"target\"] == 1) & (heart[\"sex\"] == 0)][\"trestbps\"]\n",
    "\n",
    "tstat, p_value = stats.ttest_ind(heart_1_gm.values, heart_1_gf.values)\n",
    "\n",
    "print(\"The t-test statistic is: \", tstat)\n",
    "print(\"The p_value statistic is: \", p_value)"
   ]
  },
  {
   "cell_type": "code",
   "execution_count": 87,
   "id": "83d9703f",
   "metadata": {},
   "outputs": [
    {
     "name": "stdout",
     "output_type": "stream",
     "text": [
      "The t-test statisitc is:  -3.5113699924842563\n",
      "The p_value statistic is:  0.000605349336664354\n"
     ]
    }
   ],
   "source": [
    "heart_0_gm = heart[(heart[\"target\"] == 0) & (heart[\"sex\"] == 1)][\"trestbps\"]\n",
    "heart_0_gf = heart[(heart[\"target\"] == 0) & (heart[\"sex\"] == 0)][\"trestbps\"]\n",
    "\n",
    "tstat1, p_value = stats.ttest_ind(heart_0_gm.values, heart_0_gf.values)\n",
    "\n",
    "print(\"The t-test statisitc is: \", tstat1)\n",
    "print(\"The p_value statistic is: \", p_value)"
   ]
  },
  {
   "cell_type": "code",
   "execution_count": 88,
   "id": "77105eb0",
   "metadata": {},
   "outputs": [
    {
     "name": "stdout",
     "output_type": "stream",
     "text": [
      "0.06204437520735433\n",
      "0.7886023920807431\n"
     ]
    }
   ],
   "source": [
    "print(cohen_d(heart_1_gm, heart_1_gf))\n",
    "print(cohen_d(heart_0_gm, heart_0_gf))"
   ]
  },
  {
   "cell_type": "markdown",
   "id": "8cea3b60",
   "metadata": {},
   "source": [
    "Conclusions:\n",
    "- For people who do not have heart disease, the t-test statistic is approximately 0.40 which suggests a small difference between the two male and female groups. The resting blood pressure is not that different.\n",
    "- For people who do have heart disease, the t-test statistic is approximately 0.062 which suggests that there is a large difference between the two male and female groups which suggests high statistical significance between the two groups. There is a big difference.\n",
    "- For the group of people who do not have heart disease, the effect size of gender is very small and has almost no effect on the standard deviation, however for the group that does, the effect size of gender is much larger and has a large (almost 0.8) effect on std.\n"
   ]
  },
  {
   "cell_type": "code",
   "execution_count": 96,
   "id": "8ded8cbc",
   "metadata": {},
   "outputs": [
    {
     "name": "stdout",
     "output_type": "stream",
     "text": [
      "     heartDiseaseCount  totalCount  propHeartDisease\n",
      "sex                                                 \n",
      "0                   24          96          0.250000\n",
      "1                  114         207          0.550725\n"
     ]
    }
   ],
   "source": [
    "#Count the number with the disease for each gender type\n",
    "hasDiseaseCount = heart[heart.hasDisease==True].groupby(\"sex\").count().hasDisease\n",
    "\n",
    "#Count the number of gender type\n",
    "totalCount = heart.groupby(\"sex\").count()['hasDisease']\n",
    "\n",
    "#combine into a dataframe (both are indexed with gender, so will be matched) and specify the columns\n",
    "p = pd.concat([hasDiseaseCount, totalCount], axis=1)\n",
    "p.columns = [\"heartDiseaseCount\", \"totalCount\"]\n",
    "\n",
    "#create a new column and calculate the proportion\n",
    "p['propHeartDisease']=p[\"heartDiseaseCount\"]/p[\"totalCount\"]\n",
    "\n",
    "#print the results\n",
    "print(p.head())"
   ]
  },
  {
   "cell_type": "markdown",
   "id": "dd5e6723",
   "metadata": {},
   "source": [
    "1. There does appear to be a difference; a higher proportion of males tend to have heart disease in comparison with females."
   ]
  },
  {
   "cell_type": "code",
   "execution_count": 102,
   "id": "37f56c60",
   "metadata": {},
   "outputs": [
    {
     "data": {
      "text/html": [
       "<div>\n",
       "<style scoped>\n",
       "    .dataframe tbody tr th:only-of-type {\n",
       "        vertical-align: middle;\n",
       "    }\n",
       "\n",
       "    .dataframe tbody tr th {\n",
       "        vertical-align: top;\n",
       "    }\n",
       "\n",
       "    .dataframe thead th {\n",
       "        text-align: right;\n",
       "    }\n",
       "</style>\n",
       "<table border=\"1\" class=\"dataframe\">\n",
       "  <thead>\n",
       "    <tr style=\"text-align: right;\">\n",
       "      <th>sex_1</th>\n",
       "      <th>Female</th>\n",
       "      <th>Male</th>\n",
       "    </tr>\n",
       "    <tr>\n",
       "      <th>hasDisease</th>\n",
       "      <th></th>\n",
       "      <th></th>\n",
       "    </tr>\n",
       "  </thead>\n",
       "  <tbody>\n",
       "    <tr>\n",
       "      <th>False</th>\n",
       "      <td>72</td>\n",
       "      <td>93</td>\n",
       "    </tr>\n",
       "    <tr>\n",
       "      <th>True</th>\n",
       "      <td>24</td>\n",
       "      <td>114</td>\n",
       "    </tr>\n",
       "  </tbody>\n",
       "</table>\n",
       "</div>"
      ],
      "text/plain": [
       "sex_1       Female  Male\n",
       "hasDisease              \n",
       "False           72    93\n",
       "True            24   114"
      ]
     },
     "execution_count": 102,
     "metadata": {},
     "output_type": "execute_result"
    }
   ],
   "source": [
    "pd.crosstab(heart.hasDisease, heart.sex_1)"
   ]
  },
  {
   "cell_type": "code",
   "execution_count": 112,
   "id": "85fe10a0",
   "metadata": {},
   "outputs": [
    {
     "data": {
      "text/plain": [
       "(0.25, 0.5507246376811594)"
      ]
     },
     "execution_count": 112,
     "metadata": {},
     "output_type": "execute_result"
    }
   ],
   "source": [
    "p_m = 114/ (93 + 114)\n",
    "p_fm = 24/ (72 + 24)\n",
    "p_fm, p_m"
   ]
  },
  {
   "cell_type": "code",
   "execution_count": 113,
   "id": "e0e2869b",
   "metadata": {},
   "outputs": [],
   "source": [
    "n = 207\n",
    "n1 = 96"
   ]
  },
  {
   "cell_type": "code",
   "execution_count": 114,
   "id": "abe5e4ed",
   "metadata": {},
   "outputs": [],
   "source": [
    "se_male = np.sqrt(p_m * (1 - p_m) / n)\n",
    "se_female = np.sqrt(p_fm * (1 - p_fm) / n)"
   ]
  },
  {
   "cell_type": "code",
   "execution_count": 109,
   "id": "6ffcab22",
   "metadata": {},
   "outputs": [
    {
     "data": {
      "text/plain": [
       "(0.0, 0.06776328527122512)"
      ]
     },
     "execution_count": 109,
     "metadata": {},
     "output_type": "execute_result"
    }
   ],
   "source": [
    "z_score = 1.96\n",
    "lcb = p_m - z_score * se_male\n",
    "ucb = p_m = z_score * se_male\n",
    "lcb, ucb"
   ]
  },
  {
   "cell_type": "code",
   "execution_count": 117,
   "id": "af224573",
   "metadata": {},
   "outputs": [
    {
     "data": {
      "text/plain": [
       "(0.1910109319879731, 0.3089890680120269)"
      ]
     },
     "execution_count": 117,
     "metadata": {},
     "output_type": "execute_result"
    }
   ],
   "source": [
    "lcb1 = p_fm - z_score * se_female\n",
    "ucb1 = p_fm + z_score * se_female\n",
    "lcb1, ucb1"
   ]
  },
  {
   "cell_type": "code",
   "execution_count": 108,
   "id": "481b458a",
   "metadata": {},
   "outputs": [
    {
     "data": {
      "text/plain": [
       "(0.03352411384928972, 0.10200245669316052)"
      ]
     },
     "execution_count": 108,
     "metadata": {},
     "output_type": "execute_result"
    }
   ],
   "source": [
    "import statsmodels.api as sm\n",
    "sm.stats.proportion_confint(n * p_m, n)"
   ]
  },
  {
   "cell_type": "code",
   "execution_count": 119,
   "id": "b5b174f2",
   "metadata": {},
   "outputs": [
    {
     "data": {
      "text/plain": [
       "(0.1633810109781451, 0.3366189890218549)"
      ]
     },
     "execution_count": 119,
     "metadata": {},
     "output_type": "execute_result"
    }
   ],
   "source": [
    "sm.stats.proportion_confint(n1 * p_fm, n1)"
   ]
  },
  {
   "cell_type": "code",
   "execution_count": 120,
   "id": "4b0a399e",
   "metadata": {},
   "outputs": [
    {
     "data": {
      "text/plain": [
       "(0.2001580667189482, 0.37984193328105187)"
      ]
     },
     "execution_count": 120,
     "metadata": {},
     "output_type": "execute_result"
    }
   ],
   "source": [
    "se_diff = np.sqrt(se_female ** 2 + se_male ** 2)\n",
    "d2 = 0.55 - 0.26\n",
    "lcb2 = d2 - 1.96 * se_diff\n",
    "ucb2 = d2 + 1.96 * se_diff\n",
    "\n",
    "(lcb2, ucb2)"
   ]
  },
  {
   "cell_type": "markdown",
   "id": "62b48370",
   "metadata": {},
   "source": [
    "The confidence interval is 0.20 and 0.38, with this range not having - within it. Hence, we cannot make any conclusions that the population proportion of females with heart disease and the population proportion of males with heart disease is the same. The population of men and women who have heart disease is not the same because the confidence intervals of the difference between the two populations are both above 0."
   ]
  }
 ],
 "metadata": {
  "kernelspec": {
   "display_name": "Python 3 (ipykernel)",
   "language": "python",
   "name": "python3"
  },
  "language_info": {
   "codemirror_mode": {
    "name": "ipython",
    "version": 3
   },
   "file_extension": ".py",
   "mimetype": "text/x-python",
   "name": "python",
   "nbconvert_exporter": "python",
   "pygments_lexer": "ipython3",
   "version": "3.8.13"
  },
  "toc": {
   "base_numbering": 1,
   "nav_menu": {},
   "number_sections": true,
   "sideBar": true,
   "skip_h1_title": false,
   "title_cell": "Table of Contents",
   "title_sidebar": "Contents",
   "toc_cell": false,
   "toc_position": {},
   "toc_section_display": true,
   "toc_window_display": false
  }
 },
 "nbformat": 4,
 "nbformat_minor": 5
}
