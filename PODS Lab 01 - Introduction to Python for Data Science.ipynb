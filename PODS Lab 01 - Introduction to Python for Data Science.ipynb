{
 "cells": [
  {
   "cell_type": "markdown",
   "id": "3a508408",
   "metadata": {},
   "source": [
    "# Introduction to Python for Data Science"
   ]
  },
  {
   "cell_type": "code",
   "execution_count": 34,
   "id": "c850b82f",
   "metadata": {},
   "outputs": [],
   "source": [
    "import pandas as pd\n",
    "import numpy as np\n",
    "import matplotlib.pyplot as plt\n",
    "\n",
    "import csv\n",
    "import sys"
   ]
  },
  {
   "cell_type": "markdown",
   "id": "e5fe3749",
   "metadata": {},
   "source": [
    "### Basic Operations"
   ]
  },
  {
   "cell_type": "code",
   "execution_count": 2,
   "id": "4db681de",
   "metadata": {},
   "outputs": [
    {
     "name": "stdout",
     "output_type": "stream",
     "text": [
      "Hello, World!\n"
     ]
    }
   ],
   "source": [
    "print(\"Hello, World!\")"
   ]
  },
  {
   "cell_type": "code",
   "execution_count": 3,
   "id": "f97e47bf",
   "metadata": {},
   "outputs": [
    {
     "data": {
      "text/plain": [
       "9"
      ]
     },
     "execution_count": 3,
     "metadata": {},
     "output_type": "execute_result"
    }
   ],
   "source": [
    "# Basic Operations\n",
    "1 + 2 * 3\n",
    "(1 + 2) * 3"
   ]
  },
  {
   "cell_type": "code",
   "execution_count": 4,
   "id": "1de56e12",
   "metadata": {},
   "outputs": [
    {
     "name": "stdout",
     "output_type": "stream",
     "text": [
      "1\n",
      "2\n",
      "3\n",
      "4\n",
      "5\n",
      "6\n",
      "7\n",
      "8\n",
      "9\n"
     ]
    }
   ],
   "source": [
    "# Loops in Python\n",
    "for i in range(1, 10):\n",
    "    print(i)"
   ]
  },
  {
   "cell_type": "code",
   "execution_count": 7,
   "id": "9149d902",
   "metadata": {},
   "outputs": [
    {
     "name": "stdout",
     "output_type": "stream",
     "text": [
      "1\n",
      "3\n",
      "6\n",
      "10\n",
      "15\n",
      "21\n",
      "28\n",
      "36\n",
      "45\n",
      "My final table:  45\n"
     ]
    }
   ],
   "source": [
    "# Variables in Python\n",
    "total = 0\n",
    "for i in range(1, 10):\n",
    "    total = total + i\n",
    "    print(total)\n",
    "print(\"My final table: \", total)"
   ]
  },
  {
   "cell_type": "code",
   "execution_count": 13,
   "id": "d1d8be8e",
   "metadata": {},
   "outputs": [
    {
     "name": "stdout",
     "output_type": "stream",
     "text": [
      "Hello Cagatay\n",
      "Hello Fred\n"
     ]
    }
   ],
   "source": [
    "# Functions in Python\n",
    "def say_hello_to(name):\n",
    "    print(\"Hello \" + name)\n",
    "\n",
    "say_hello_to(\"Cagatay\")\n",
    "say_hello_to(\"Fred\")"
   ]
  },
  {
   "cell_type": "code",
   "execution_count": 14,
   "id": "ff80570e",
   "metadata": {},
   "outputs": [
    {
     "name": "stdout",
     "output_type": "stream",
     "text": [
      "This is positive!\n"
     ]
    }
   ],
   "source": [
    "value = 5\n",
    "if value > 0:\n",
    "    print(\"This is positive!\")\n",
    "elif value < 0:\n",
    "    print(\"This is negative!\")\n",
    "else:\n",
    "    print(\"This is 0, you can't fool me, I'm a clever piece of code\")\n"
   ]
  },
  {
   "cell_type": "code",
   "execution_count": 15,
   "id": "bf05b402",
   "metadata": {},
   "outputs": [],
   "source": [
    "#Please ignore me. "
   ]
  },
  {
   "cell_type": "code",
   "execution_count": 16,
   "id": "cdb2409a",
   "metadata": {},
   "outputs": [],
   "source": [
    "x = 3          # numbers  \n",
    "a = \"gorillas\" # strings  \n",
    "t = True       # booleans"
   ]
  },
  {
   "cell_type": "code",
   "execution_count": 12,
   "id": "40223335",
   "metadata": {},
   "outputs": [
    {
     "name": "stdout",
     "output_type": "stream",
     "text": [
      "['Victoria', 'Hampstead Heath', 'Richmond']\n",
      "-----------------------------------\n",
      "Now the same with a for-loop:\n",
      "Victoria\n",
      "Hampstead Heath\n",
      "Richmond\n"
     ]
    }
   ],
   "source": [
    "myFavouriteParks = []\n",
    "myFavouriteParks.append(\"Victoria\")\n",
    "myFavouriteParks.append(\"Hampstead Heath\")\n",
    "myFavouriteParks.append(\"Richmond\")\n",
    "print (myFavouriteParks)\n",
    "print (\"-----------------------------------\")\n",
    "print (\"Now the same with a for-loop:\")\n",
    "for value in myFavouriteParks:\n",
    "    print (value)"
   ]
  },
  {
   "cell_type": "code",
   "execution_count": 11,
   "id": "142c3654",
   "metadata": {},
   "outputs": [
    {
     "name": "stdout",
     "output_type": "stream",
     "text": [
      "now trying with a non-existent key:\n",
      "{'banana': 'Yellow', 'avocado': 'green'}\n"
     ]
    }
   ],
   "source": [
    "foods = {}\n",
    "foods[\"banana\"] = \"Yellow\"\n",
    "foods[\"avocado\"] = \"green\"\n",
    "foods\n",
    "foods[\"banana\"]\n",
    "print (\"now trying with a non-existent key:\")\n",
    "#foods[\"cheese\"]\n",
    "print(foods)"
   ]
  },
  {
   "cell_type": "code",
   "execution_count": 8,
   "id": "9727bce1",
   "metadata": {},
   "outputs": [
    {
     "name": "stdout",
     "output_type": "stream",
     "text": [
      "We need to load the package first:\n",
      "[0 1 2 3 4 5 6 7 8 9]\n"
     ]
    }
   ],
   "source": [
    "print (\"We need to load the package first:\")\n",
    "myArray = np.arange(10)\n",
    "print (myArray)"
   ]
  },
  {
   "cell_type": "markdown",
   "id": "e8b96b4a",
   "metadata": {},
   "source": [
    "## Part 1: Elementary Python Tasks"
   ]
  },
  {
   "cell_type": "code",
   "execution_count": 24,
   "id": "59708a79",
   "metadata": {},
   "outputs": [
    {
     "name": "stdout",
     "output_type": "stream",
     "text": [
      "4904\n"
     ]
    }
   ],
   "source": [
    "# Loading the data\n",
    "r = open(\"/Users/rohitguptha/Documents/Datasets/TB_burden_countries_2014-09-29 (1).csv\") # opens the csv file\n",
    "\n",
    "rowcount = 0\n",
    "for row in csv.reader(r):\n",
    "    #print(row)\n",
    "    rowcount += 1\n",
    "# countries = pd.read_csv(\"/Users/rohitguptha/Documents/Datasets/TB_burden_countries_2014-09-29 (1).csv\")\n",
    "# countries\n",
    "print(rowcount) # There are 4904 rows within this data"
   ]
  },
  {
   "cell_type": "code",
   "execution_count": 27,
   "id": "861310ed",
   "metadata": {},
   "outputs": [
    {
     "name": "stdout",
     "output_type": "stream",
     "text": [
      "200.27963695696508\n",
      "Rowcount = 4904\n"
     ]
    }
   ],
   "source": [
    "rowcount = 0\n",
    "total=0\n",
    "TB = open(\"/Users/rohitguptha/Documents/Datasets/TB_burden_countries_2014-09-29 (1).csv\") # opens the csv file\n",
    "next(TB)\n",
    "for row in csv.reader(TB):\n",
    "    rowcount+= 1\n",
    "    if 1990 <= int(row[5]) <= 2011:\n",
    "        try:\n",
    "            value=float(row[7])\n",
    "            total += value\n",
    "        except:ValueError\n",
    "    \n",
    "average=total/rowcount\n",
    "print(average)\n",
    "    \n",
    "print(\"Rowcount =\",rowcount+1)"
   ]
  },
  {
   "cell_type": "markdown",
   "id": "3d39d44f",
   "metadata": {},
   "source": [
    "## Part 2: Numpy Basics"
   ]
  },
  {
   "cell_type": "code",
   "execution_count": 28,
   "id": "b4651e3a",
   "metadata": {},
   "outputs": [
    {
     "data": {
      "text/plain": [
       "array([0, 1, 2, 3])"
      ]
     },
     "execution_count": 28,
     "metadata": {},
     "output_type": "execute_result"
    }
   ],
   "source": [
    "a = np.array([0, 1, 2, 3])\n",
    "a"
   ]
  },
  {
   "cell_type": "code",
   "execution_count": 31,
   "id": "597daa2a",
   "metadata": {},
   "outputs": [],
   "source": [
    "a = np.arange(10)\n",
    "b = np.arange(1, 9, 2) # start, end (exlusive), step\n",
    "c = np.linspace(0, 1, 6)  # start, end, num-points\n",
    "d = np.linspace(0, 1, 5, endpoint=False)\n",
    "e = np.diag(np.array([1, 2, 3, 4, 5]))\n",
    "# Now generate some random points\n",
    "f = np.random.rand(4)              # uniform in [0, 1]\n",
    "g = np.random.randn(4)             # gaussian distribution"
   ]
  },
  {
   "cell_type": "code",
   "execution_count": 32,
   "id": "6d5997ba",
   "metadata": {},
   "outputs": [
    {
     "data": {
      "text/plain": [
       "10"
      ]
     },
     "execution_count": 32,
     "metadata": {},
     "output_type": "execute_result"
    }
   ],
   "source": [
    "a.ndim\n",
    "a.shape\n",
    "len(a)"
   ]
  },
  {
   "cell_type": "code",
   "execution_count": 33,
   "id": "9b5c1e61",
   "metadata": {},
   "outputs": [
    {
     "data": {
      "text/plain": [
       "array([[0, 2, 4, 6, 8],\n",
       "       [1, 3, 5, 7, 9]])"
      ]
     },
     "execution_count": 33,
     "metadata": {},
     "output_type": "execute_result"
    }
   ],
   "source": [
    "a = np.array([[0, 1, 2], [3, 4, 5]])    # 2 x 3 array\n",
    "b = np.arange(10).reshape((5, 2)) # 5 x 2 array\n",
    "b.T"
   ]
  },
  {
   "cell_type": "code",
   "execution_count": 35,
   "id": "88b4e16b",
   "metadata": {},
   "outputs": [
    {
     "data": {
      "text/plain": [
       "dtype('float64')"
      ]
     },
     "execution_count": 35,
     "metadata": {},
     "output_type": "execute_result"
    }
   ],
   "source": [
    "c = np.array([1, 2, 3], dtype=float)\n",
    "e = np.array([True, False, False, True])\n",
    "f = np.array(['Bonjour', 'Hello', 'Hallo', 'Terve', 'Hej'])\n",
    "c.dtype"
   ]
  },
  {
   "cell_type": "code",
   "execution_count": 36,
   "id": "8c4913a9",
   "metadata": {},
   "outputs": [
    {
     "data": {
      "text/plain": [
       "array([False,  True, False, False])"
      ]
     },
     "execution_count": 36,
     "metadata": {},
     "output_type": "execute_result"
    }
   ],
   "source": [
    "a = np.array([1, 2, 3, 4])\n",
    "a + 1\n",
    "2**a\n",
    "b = np.ones(4) + 1\n",
    "a - b\n",
    "a * b\n",
    "a == b"
   ]
  },
  {
   "cell_type": "code",
   "execution_count": 37,
   "id": "9d3b6d20",
   "metadata": {},
   "outputs": [
    {
     "data": {
      "image/png": "[encoded data removed]",
      "text/plain": [
       "<Figure size 432x288 with 1 Axes>"
      ]
     },
     "metadata": {
      "needs_background": "light"
     },
     "output_type": "display_data"
    }
   ],
   "source": [
    "x = np.linspace(0, 3, 20)\n",
    "y = np.linspace(0, 9, 20)\n",
    "plt.plot(x, y)       # line plot\n",
    "plt.plot(x, y, 'o')  # dot plot\n",
    "plt.show()"
   ]
  },
  {
   "cell_type": "code",
   "execution_count": 38,
   "id": "64b7d492",
   "metadata": {},
   "outputs": [
    {
     "name": "stdout",
     "output_type": "stream",
     "text": [
      "[ 5  6  7  8  9 10 11 12 13 14 15]\n",
      "[ 0.          3.83333333  7.66666667 11.5        15.33333333 19.16666667\n",
      " 23.        ]\n",
      "[-0.42099276 -0.30647262  0.5250623  -0.8456392  -0.01502307  0.20280492\n",
      " -0.43436985]\n",
      "8.246211251235321\n"
     ]
    },
    {
     "data": {
      "image/png": "[encoded data removed]",
      "text/plain": [
       "<Figure size 432x288 with 1 Axes>"
      ]
     },
     "metadata": {
      "needs_background": "light"
     },
     "output_type": "display_data"
    }
   ],
   "source": [
    "#Create an array of integers ranging from 5-15\n",
    "a = np.arange(5,16,1)\n",
    "print(a)\n",
    "#Create an array of seven evenly spaced elements\n",
    "b = np.linspace(0,23,7)\n",
    "print(b) #linspace is used for evenly spaced numbers\n",
    "#Create an array following the uniform distribution\n",
    "c = np.random.uniform(-1,1, size=7)\n",
    "print(c)\n",
    "#Visualising the array in a histogram in matplotlib\n",
    "plt.hist(c, bins = 7)\n",
    "#Creating two numpy arrays and finding the euclidean distance between them\n",
    "x = np.random.randint(6,size = 10,dtype=int)\n",
    "y = np.random.randint(8,size = 10,dtype=int)\n",
    "ed = np.linalg.norm(x - y)\n",
    "print(ed)\n",
    "#Linear Algebra formula numpy"
   ]
  }
 ],
 "metadata": {
  "kernelspec": {
   "display_name": "Python 3 (ipykernel)",
   "language": "python",
   "name": "python3"
  },
  "language_info": {
   "codemirror_mode": {
    "name": "ipython",
    "version": 3
   },
   "file_extension": ".py",
   "mimetype": "text/x-python",
   "name": "python",
   "nbconvert_exporter": "python",
   "pygments_lexer": "ipython3",
   "version": "3.8.13"
  },
  "toc": {
   "base_numbering": 1,
   "nav_menu": {},
   "number_sections": true,
   "sideBar": true,
   "skip_h1_title": false,
   "title_cell": "Table of Contents",
   "title_sidebar": "Contents",
   "toc_cell": false,
   "toc_position": {},
   "toc_section_display": true,
   "toc_window_display": false
  }
 },
 "nbformat": 4,
 "nbformat_minor": 5
}
